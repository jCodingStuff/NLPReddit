{
 "cells": [
  {
   "cell_type": "code",
   "execution_count": 1,
   "metadata": {
    "pycharm": {
     "is_executing": false
    }
   },
   "outputs": [],
   "source": [
    "import praw\n",
    "\n",
    "reddit = praw.Reddit(client_id='D52pMTitN_4Okg',\n",
    "                     client_secret='6sOjBsPe-EryAiLdvgoRLyFKrVA',\n",
    "                     user_agent='ChomskyBot',\n",
    "                     username='ChomskyBot',\n",
    "                     password='CaRaGio12625')"
   ]
  },
  {
   "cell_type": "code",
   "execution_count": 3,
   "metadata": {},
   "outputs": [],
   "source": [
    "subreddit = reddit.subreddit('amitheasshole')"
   ]
  },
  {
   "cell_type": "code",
   "execution_count": 10,
   "metadata": {},
   "outputs": [
    {
     "name": "stdout",
     "output_type": "stream",
     "text": [
      "NTA. This needs to have happened long ago.\n",
      "INFO\n",
      "\n",
      "Why do you or your daughter have to cook an entirely separate meal? Why can’t you throw on a veggie burger if you’re making burgers, some tofu along with the rest of the family’s chicken? It’s obviously very nice of you to cook everyone’s meals and she should be ABLE to cook her own, but it kind of seems like you’re making a mountain out of a molehill.\n",
      "NTA.  The kid needs to learn about work ethic and his dad is doing him a major disservice by not making him finish the job properly.\n",
      "NTA \n",
      "\n",
      "You asked for something specific. You were told you were getting that something specific. The game was changed on you which can be a huge deal for a lot of people - your mom should probably know by now that you very probably don’t like surprises and prefer spending time with the few people you love over a large group of people you barely know. \n",
      "\n",
      "Your mom is a train wreck and I’m very sure that she will try to make you feel guilty for walking out, don’t let it happen.\n",
      "NTA. He's trying to emotionally manipulate you. Sounds like you're sugar coating a history of neglect. He doesn't deserve this power over you.\n",
      "NTA they’re your chairs, they were specifically given to you by their owner.\n",
      "NTA Your wedding and you get to choose.     \n",
      "\n",
      ">I let the mother of the flower girl know     \n",
      "\n",
      "It was a bit of a faux pas to designate a flower girl and change your mind *after having told her.* That was tactless and I don't blame them for being miffed, especially if the child herself had been told about it.     \n",
      "If I misunderstood that you told them then never mind but the way it was written it sounds as if you had.\n",
      "NTA she should know that's basic hazards of working from home in a 1 BR apartment, and you should communicate you do \"bend\" by sacrificing sleep and getting out of the apartment for her convenience\n",
      "NAH. Shit happens and most vegans know at the end of the day that they're taking a risk eating things without a definitive list of ingredients. You meant no harm and did your best to remember a recipe that was already tailored to a food allergy you're probably not used to accommodating.\n",
      "NTA--he was being rude to everyone in there unless he was specifically invited for a concert there. There's usually background music in a coffeeshop already--I'm sure the baristas weren't happy either. He was clearly looking for attention because he felt the need to engage you for no reason...\n"
     ]
    }
   ],
   "source": [
    "for submission in subreddit.hot(limit=10):\n",
    "    print(submission.comments.list())"
   ]
  },
  {
   "cell_type": "code",
   "execution_count": 3,
   "metadata": {
    "pycharm": {
     "is_executing": false
    }
   },
   "outputs": [],
   "source": [
    "import json\n",
    "comments = []\n",
    "posts = []\n",
    "comment_fields = ('id', 'body', 'link_id', 'permalink', 'score', 'subreddit_id')\n",
    "post_fields = ('id', 'title', 'link_flair_text', 'title', 'selftext', 'score')\n",
    "\n",
    "for submission in reddit.subreddit('amitheasshole').hot(limit=10):\n",
    "    post = submission\n",
    "    \n",
    "    #Retrieves \n",
    "    comment = submission.comments.list()[1]\n",
    "    content = vars(comment)\n",
    "    comment_dict = {field:content[field] for field in comment_fields}\n",
    "    \n",
    "    comments.append(comment_dict)\n"
   ]
  },
  {
   "cell_type": "code",
   "execution_count": 4,
   "outputs": [],
   "source": [
    "with open('data.json', 'w') as f:\n",
    "    json.dump(comments, f)"
   ],
   "metadata": {
    "collapsed": false,
    "pycharm": {
     "name": "#%%\n",
     "is_executing": false
    }
   }
  },
  {
   "cell_type": "code",
   "execution_count": 5,
   "metadata": {
    "pycharm": {
     "is_executing": false
    }
   },
   "outputs": [
    {
     "name": "stdout",
     "text": [
      "Body: NTA. This needs to have happened long ago.\nScore: 661\nOriginal: t3_bpuvk7\n\nBody: INFO\n\nWhy do you or your daughter have to cook an entirely separate meal? Why can’t you throw on a veggie burger if you’re making burgers, some tofu along with the rest of the family’s chicken? It’s obviously very nice of you to cook everyone’s meals and she should be ABLE to cook her own, but it kind of seems like you’re making a mountain out of a molehill.\nScore: 449\nOriginal: t3_br875q\n\nBody: NTA, its your birthday, but she threw a party that she wanted, she fucked up\nScore: 1294\nOriginal: t3_br9fpg\n\nBody: NTA.  The kid needs to learn about work ethic and his dad is doing him a major disservice by not making him finish the job properly.\nScore: 4161\nOriginal: t3_br6i4u\n\nBody: NTA they’re your chairs, they were specifically given to you by their owner.\nScore: 486\nOriginal: t3_bra5fd\n\nBody: NTA - You've frequently adjusted your schedule for her (rather than *her* leaving the apartment to find a quiet place as to not to disturb you early in the morning) and she blows up over the one time you were late\nScore: 74\nOriginal: t3_brawil\n\nBody: NTA. You don't \"joke\" or \"prank\" your SO by telling them you have been diagnosed with cancer by an oncologist.\nScore: 105\nOriginal: t3_brb23e\n\nBody: NTA. He's trying to emotionally manipulate you. Sounds like you're sugar coating a history of neglect. He doesn't deserve this power over you.\nScore: 3281\nOriginal: t3_br39kg\n\nBody: NTA\nAn exam is fucking important\nScore: 722\nOriginal: t3_br75ms\n\nBody: NTA, if he needs emotional support, he has a wife. My wife would change ANY plans if I needed emotional support, I wouldn’t even have to ask. And vice versa. Something is off.\nScore: 227\nOriginal: t3_bra64t\n\n"
     ],
     "output_type": "stream"
    }
   ],
   "source": [
    "with open('data.json') as json_file:  \n",
    "    data_r = json.load(json_file)\n",
    "    for p in data_r:\n",
    "        print('Body: ' + p['body'])\n",
    "        print('Score: ' + str(p['score']))\n",
    "        print('Original: ' + p['link_id'])\n",
    "        print('')"
   ]
  },
  {
   "cell_type": "code",
   "execution_count": null,
   "metadata": {},
   "outputs": [],
   "source": []
  }
 ],
 "metadata": {
  "kernelspec": {
   "display_name": "Python 3",
   "language": "python",
   "name": "python3"
  },
  "language_info": {
   "codemirror_mode": {
    "name": "ipython",
    "version": 3
   },
   "file_extension": ".py",
   "mimetype": "text/x-python",
   "name": "python",
   "nbconvert_exporter": "python",
   "pygments_lexer": "ipython3",
   "version": "3.7.1"
  },
  "pycharm": {
   "stem_cell": {
    "cell_type": "raw",
    "source": [],
    "metadata": {
     "collapsed": false
    }
   }
  }
 },
 "nbformat": 4,
 "nbformat_minor": 2
}