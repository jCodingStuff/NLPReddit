{
 "cells": [
  {
   "cell_type": "code",
   "execution_count": 125,
   "metadata": {
    "pycharm": {
     "is_executing": false
    }
   },
   "outputs": [],
   "source": [
    "import json\n",
    "import nltk\n",
    "\n",
    "# tokenizing\n",
    "from nltk import word_tokenize\n",
    "\n",
    "\n",
    "#stop-words\n",
    "from nltk.corpus import stopwords\n",
    "stop_words=set(nltk.corpus.stopwords.words('english'))\n",
    "\n",
    "\n",
    "#word2vec\n",
    "from gensim.models import Word2Vec  \n",
    "\n",
    "import numpy as np\n",
    "import pandas as pd\n",
    "import seaborn as sns\n",
    "import matplotlib.pyplot as plt\n",
    "%matplotlib inline\n",
    "\n",
    "\n",
    "with open('data.json') as json_file:      \n",
    "    data_r = json.load(json_file)"
   ]
  },
  {
   "cell_type": "code",
   "execution_count": 126,
   "metadata": {},
   "outputs": [],
   "source": [
    "from IPython.display import Audio, display\n",
    "\n",
    "def allDone():\n",
    "  display(Audio(url='https://sound.peal.io/ps/audios/000/000/537/original/woo_vu_luvub_dub_dub.wav', autoplay=True))"
   ]
  },
  {
   "cell_type": "code",
   "execution_count": 127,
   "metadata": {},
   "outputs": [
    {
     "name": "stdout",
     "output_type": "stream",
     "text": [
      "1552710953.0\n",
      "Your data contains no repeated submissions\n"
     ]
    }
   ],
   "source": [
    "ids = [w['id'] for w in data_r]\n",
    "print(data_r[-1]['created_utc'])\n",
    "if len(ids) == len(set(ids)):\n",
    "    print(\"Your data contains no repeated submissions\")"
   ]
  },
  {
   "cell_type": "code",
   "execution_count": 128,
   "metadata": {},
   "outputs": [],
   "source": [
    "def transform(label):\n",
    "    max = 0\n",
    "    new_label = \"\"\n",
    "    for k, v in label.items():\n",
    "        if v >= max:\n",
    "            \n",
    "            max = v\n",
    "            new_label = k\n",
    "    return new_label\n"
   ]
  },
  {
   "cell_type": "code",
   "execution_count": 129,
   "metadata": {},
   "outputs": [],
   "source": [
    "def balance(n):  \n",
    "    counter = n\n",
    "    for i, w in enumerate(data_r):\n",
    "        if w['label'] == 'NTA' and counter>0:\n",
    "            del data_r[i]\n",
    "            counter-=1\n",
    "\n",
    "    print(len(data_r))"
   ]
  },
  {
   "cell_type": "code",
   "execution_count": 130,
   "metadata": {},
   "outputs": [
    {
     "name": "stdout",
     "output_type": "stream",
     "text": [
      "32100\n",
      "32100\n"
     ]
    },
    {
     "data": {
      "text/html": [
       "\n",
       "                <audio controls=\"controls\" autoplay=\"autoplay\">\n",
       "                    <source src=\"https://sound.peal.io/ps/audios/000/000/537/original/woo_vu_luvub_dub_dub.wav\" type=\"audio/x-wav\" />\n",
       "                    Your browser does not support the audio element.\n",
       "                </audio>\n",
       "              "
      ],
      "text/plain": [
       "<IPython.lib.display.Audio object>"
      ]
     },
     "metadata": {},
     "output_type": "display_data"
    }
   ],
   "source": [
    "for w in data_r:\n",
    "    if type(w['label'])==type({}):\n",
    "        w['label'] = transform(w['label'])\n",
    "balance(6000)\n",
    "print(len(data_r))\n",
    "allDone()"
   ]
  },
  {
   "cell_type": "code",
   "execution_count": 131,
   "metadata": {},
   "outputs": [
    {
     "name": "stdout",
     "output_type": "stream",
     "text": [
      "(22848,)\n",
      "(22848,)\n"
     ]
    }
   ],
   "source": [
    "ids = np.array([w['id'] for w in data_r if w['label']!= None])\n",
    "titles = np.array([w['title'] for w in data_r if w['label']!= None])\n",
    "bodies = np.array([w['selftext'] for w in data_r if w['label']!= None])\n",
    "labels = np.array([w['label'] for w in data_r if w['label'] != None])\n",
    "\n",
    "print(titles.shape)\n",
    "print(labels.shape)"
   ]
  },
  {
   "cell_type": "code",
   "execution_count": 132,
   "metadata": {},
   "outputs": [],
   "source": [
    "data = np.vstack([titles,labels, bodies])\n",
    "data = np.vstack([ids, data])"
   ]
  },
  {
   "cell_type": "code",
   "execution_count": 133,
   "metadata": {},
   "outputs": [
    {
     "data": {
      "text/plain": [
       "<matplotlib.axes._subplots.AxesSubplot at 0x1a1b001f28>"
      ]
     },
     "execution_count": 133,
     "metadata": {},
     "output_type": "execute_result"
    },
    {
     "data": {
      "image/png": "[encoded data removed]",
      "text/plain": [
       "<Figure size 432x288 with 1 Axes>"
      ]
     },
     "metadata": {
      "needs_background": "light"
     },
     "output_type": "display_data"
    }
   ],
   "source": [
    "datas = pd.DataFrame(data=data.T, columns = ['id', 'title', 'label', 'bodies'])\n",
    "datas.set_index('id')\n",
    "datas[400:410]\n",
    "datas.groupby(\"label\")['id'].count().plot.bar()"
   ]
  },
  {
   "cell_type": "code",
   "execution_count": 134,
   "metadata": {},
   "outputs": [],
   "source": [
    "from sklearn.model_selection import train_test_split\n",
    "def split(inputs, labels):\n",
    "    title, title_t, label, label_t = train_test_split(inputs, labels)\n",
    "    title_tr, title_v, label_tr, label_v= train_test_split(title, label)\n",
    "    \n",
    "    return title, title_t, title_tr, title_v, label, label_t, label_tr, label_v"
   ]
  },
  {
   "cell_type": "code",
   "execution_count": 135,
   "metadata": {},
   "outputs": [],
   "source": [
    "from imblearn.over_sampling import ADASYN\n",
    "def oversample(value, label):\n",
    "    sme = ADASYN()\n",
    "    print('First sme')\n",
    "    X_res, y_res = sme.fit_resample(value, label)\n",
    "    print('First sme done')\n",
    "    return X_res, y_res"
   ]
  },
  {
   "cell_type": "code",
   "execution_count": 136,
   "metadata": {},
   "outputs": [],
   "source": [
    "from imblearn.under_sampling import ClusterCentroids\n",
    "from collections import Counter\n",
    "def undersample(value, label):\n",
    "\n",
    "\n",
    "    label_counts = Counter(label_v)\n",
    "    count = label_counts.most_common()\n",
    "    \n",
    "    \n",
    "    classes= {'NTA':4*count[-1][1], 'YTA':count[-4][1], 'ESH':count[-1][1], 'SHP':count[-2][1], 'NAH':count[-3][1]}\n",
    "    cc = ClusterCentroids(random_state=13, sampling_strategy=classes)\n",
    "    X_res, y_res = cc.fit_resample(value, label)\n",
    "    print('First sme done')\n",
    "    return X_res, y_res"
   ]
  },
  {
   "cell_type": "code",
   "execution_count": 137,
   "metadata": {},
   "outputs": [],
   "source": [
    "title, title_t, title_tr, title_v, label, label_t, label_tr, label_v = split(titles, labels)"
   ]
  },
  {
   "cell_type": "code",
   "execution_count": 138,
   "metadata": {},
   "outputs": [],
   "source": [
    "from sklearn.feature_extraction.text import CountVectorizer\n",
    "from sklearn.naive_bayes import MultinomialNB\n",
    "\n",
    "def vectorize(title, title_t, title_tr, title_v):\n",
    "    vectorizer = CountVectorizer()\n",
    "\n",
    "    #With this I create a vectorizer and fit it on all questions\n",
    "    vectorizer.fit(titles)\n",
    "    #Here I transform the vectorizer with the specific questions, depending on if it will \n",
    "    #be used on the training, validation or all questions\n",
    "\n",
    "    title_tr_en = vectorizer.transform(title_tr).toarray()\n",
    "    title_v_en = vectorizer.transform(title_v).toarray()\n",
    "    title_en = vectorizer.transform(title).toarray()\n",
    "    title_t_en = vectorizer.transform(title_t).toarray()\n",
    "    \n",
    "    return vectorizer, title_en, title_t_en, title_tr_en, title_v_en"
   ]
  },
  {
   "cell_type": "code",
   "execution_count": 139,
   "metadata": {},
   "outputs": [
    {
     "name": "stdout",
     "output_type": "stream",
     "text": [
      "(17136, 10471)\n",
      "(5712, 10471)\n",
      "(12852, 10471)\n",
      "(4284, 10471)\n",
      "Change\n"
     ]
    }
   ],
   "source": [
    "vectorizer, title_en, title_t_en, title_tr_en, title_v_en = vectorize(title, title_t, title_tr, title_v)\n",
    "print(title_en.shape)\n",
    "print(title_t_en.shape)\n",
    "print(title_tr_en.shape)\n",
    "print(title_v_en.shape)\n",
    "print('Change')"
   ]
  },
  {
   "cell_type": "code",
   "execution_count": 17,
   "metadata": {},
   "outputs": [
    {
     "name": "stdout",
     "output_type": "stream",
     "text": [
      "First sme done\n",
      "First sme done\n"
     ]
    },
    {
     "name": "stderr",
     "output_type": "stream",
     "text": [
      "/Users/admin/anaconda3/lib/python3.7/site-packages/sklearn/cluster/k_means_.py:971: ConvergenceWarning: Number of distinct clusters (384) found smaller than n_clusters (387). Possibly due to duplicate points in X.\n",
      "  return_n_iter=True)\n",
      "/Users/admin/anaconda3/lib/python3.7/site-packages/sklearn/cluster/k_means_.py:971: ConvergenceWarning: Number of distinct clusters (420) found smaller than n_clusters (426). Possibly due to duplicate points in X.\n",
      "  return_n_iter=True)\n",
      "/Users/admin/anaconda3/lib/python3.7/site-packages/sklearn/cluster/k_means_.py:971: ConvergenceWarning: Number of distinct clusters (1155) found smaller than n_clusters (1163). Possibly due to duplicate points in X.\n",
      "  return_n_iter=True)\n"
     ]
    },
    {
     "name": "stdout",
     "output_type": "stream",
     "text": [
      "First sme done\n"
     ]
    },
    {
     "data": {
      "text/html": [
       "\n",
       "                <audio controls=\"controls\" autoplay=\"autoplay\">\n",
       "                    <source src=\"https://sound.peal.io/ps/audios/000/000/537/original/woo_vu_luvub_dub_dub.wav\" type=\"audio/x-wav\" />\n",
       "                    Your browser does not support the audio element.\n",
       "                </audio>\n",
       "              "
      ],
      "text/plain": [
       "<IPython.lib.display.Audio object>"
      ]
     },
     "metadata": {},
     "output_type": "display_data"
    }
   ],
   "source": [
    "ori_val = [title_tr_en, title_en, title_v_en]\n",
    "ori_lab = [label_tr, label, label_v]\n",
    "\n",
    "title_tr_en, label_tr = undersample(ori_val[0], ori_lab[0])\n",
    "title_en, label = undersample(ori_val[1], ori_lab[1])\n",
    "title_v_en, label_v = undersample(ori_val[2], ori_lab[2])\n",
    "allDone()"
   ]
  },
  {
   "cell_type": "code",
   "execution_count": 140,
   "metadata": {},
   "outputs": [
    {
     "name": "stdout",
     "output_type": "stream",
     "text": [
      "(17136, 10471)\n",
      "(5712, 10471)\n",
      "(12852, 10471)\n",
      "(4284, 10471)\n"
     ]
    },
    {
     "data": {
      "text/html": [
       "\n",
       "                <audio controls=\"controls\" autoplay=\"autoplay\">\n",
       "                    <source src=\"https://sound.peal.io/ps/audios/000/000/537/original/woo_vu_luvub_dub_dub.wav\" type=\"audio/x-wav\" />\n",
       "                    Your browser does not support the audio element.\n",
       "                </audio>\n",
       "              "
      ],
      "text/plain": [
       "<IPython.lib.display.Audio object>"
      ]
     },
     "metadata": {},
     "output_type": "display_data"
    }
   ],
   "source": [
    "from sklearn.ensemble import RandomForestClassifier\n",
    "\n",
    "print(title_en.shape)\n",
    "print(title_t_en.shape)\n",
    "print(title_tr_en.shape)\n",
    "print(title_v_en.shape)\n",
    "#Here I create a Multinomial Naïve Bayes and train it on the training set\n",
    "model = MultinomialNB()\n",
    "\n",
    "#title_tr_en = abs(title_tr_en)\n",
    "#model = RandomForestClassifier(n_estimators = 100)\n",
    "model.fit(title_en, label)\n",
    "allDone()"
   ]
  },
  {
   "cell_type": "code",
   "execution_count": 141,
   "metadata": {},
   "outputs": [
    {
     "data": {
      "text/plain": [
       "<matplotlib.axes._subplots.AxesSubplot at 0x1a24a7cac8>"
      ]
     },
     "execution_count": 141,
     "metadata": {},
     "output_type": "execute_result"
    },
    {
     "data": {
      "image/png": "[encoded data removed]",
      "text/plain": [
       "<Figure size 432x288 with 1 Axes>"
      ]
     },
     "metadata": {
      "needs_background": "light"
     },
     "output_type": "display_data"
    }
   ],
   "source": [
    "from collections import Counter\n",
    "\n",
    "label_counts = Counter(label_t)\n",
    "df = pd.DataFrame.from_dict(label_counts, orient='index')\n",
    "df.plot(kind='bar')"
   ]
  },
  {
   "cell_type": "code",
   "execution_count": 142,
   "metadata": {},
   "outputs": [],
   "source": [
    "from sklearn.metrics import precision_recall_fscore_support\n",
    "from numpy import vstack\n",
    "\n",
    "def RF_validate(value_tr_en, value_v_en, label_tr, label_v, model):\n",
    "    precision_v = np.array([0, 0])\n",
    "    recall_v = np.array([0, 0])\n",
    "    f_v = np.array([0, 0])\n",
    "\n",
    "    for i in range(1, 500, 20):\n",
    "        model.set_params(n_estimators = i)\n",
    "        model.fit(value_tr_en, label_tr)\n",
    "        prediction = model.predict(value_v_en)\n",
    "        test = precision_recall_fscore_support(label_v, prediction, average='macro')\n",
    "        precision_v = vstack((precision_v, (i, test[0])))\n",
    "        recall_v = vstack((recall_v, (i, test[1])))\n",
    "        f_v = vstack((f_v, (i, test[2])))\n",
    "\n",
    "    return [precision_v, recall_v, f_v]\n"
   ]
  },
  {
   "cell_type": "code",
   "execution_count": 143,
   "metadata": {},
   "outputs": [],
   "source": [
    "\n",
    "#rfc = RandomForestClassifier(n_estimators=10).fit(X_train, y_train)\n",
    "\n",
    "from sklearn.metrics import precision_recall_fscore_support\n",
    "from numpy import vstack\n",
    "\n",
    "def NB_validate(value_tr_en, value_v_en, label_tr, label_v, model):\n",
    "    precision_v = np.array([0, 0])\n",
    "    recall_v = np.array([0, 0])\n",
    "    f_v = np.array([0, 0])\n",
    "\n",
    "    for i in range(0,11, 1):\n",
    "        alpha = i/10\n",
    "        model.set_params(alpha = alpha)\n",
    "        model.fit(value_tr_en, label_tr)\n",
    "        prediction = model.predict(value_v_en)\n",
    "        test = precision_recall_fscore_support(label_v, prediction, average='macro')\n",
    "        precision_v = vstack((precision_v, (alpha, test[0])))\n",
    "        recall_v = vstack((recall_v, (alpha, test[1])))\n",
    "        f_v = vstack((f_v, (alpha, test[2])))\n",
    "\n",
    "    return [precision_v, recall_v, f_v]\n",
    "\n"
   ]
  },
  {
   "cell_type": "code",
   "execution_count": 144,
   "metadata": {},
   "outputs": [],
   "source": [
    "def visualize_validation(measures):\n",
    "    precision_v = measures[0]\n",
    "    recall_v = measures[1]\n",
    "    f_v = measures[2]\n",
    "    x3 = precision_v[1:-1, 0]\n",
    "    x1 = recall_v[1:, 0]\n",
    "    x2 = f_v[1:-1, 0]\n",
    "\n",
    "    y3 = precision_v[1:-1, 1]\n",
    "    y1 = recall_v[1:, 1]\n",
    "    y2 = f_v[1:-1, 1]\n",
    "\n",
    "    # Create plots with pre-defined labels.\n",
    "    fig, ax = plt.subplots()\n",
    "    ax.plot(x1, y1, '.-', label='Recall')\n",
    "    ax.plot(x2, y2, 'r--', label='F')\n",
    "    ax.plot(x3, y3, 'o-', label='Precision')\n",
    "\n",
    "    legend = ax.legend(fontsize='x-large')\n",
    "\n",
    "    def npmax(y1, y2, y3):\n",
    "        max_y = 0\n",
    "        max_i = 0\n",
    "        for i,y in enumerate(y1):\n",
    "            y = 0.1*y + 0.1*y2[i-1] + 0.8*y3[i-1]\n",
    "            if y > max_y:\n",
    "                max_y = y\n",
    "                max_i = i\n",
    "\n",
    "        return (max_i, max_y)\n",
    "\n",
    "    acc_i, acc_max = npmax(y1, y2, y3)\n",
    "    max_alpha = x3[acc_i-1]\n",
    "    \n",
    "    return max_alpha"
   ]
  },
  {
   "cell_type": "code",
   "execution_count": 145,
   "metadata": {},
   "outputs": [
    {
     "name": "stderr",
     "output_type": "stream",
     "text": [
      "/Users/admin/anaconda3/lib/python3.7/site-packages/sklearn/naive_bayes.py:480: UserWarning: alpha too small will result in numeric errors, setting alpha = 1.0e-10\n",
      "  'setting alpha = %.1e' % _ALPHA_MIN)\n"
     ]
    },
    {
     "data": {
      "text/html": [
       "\n",
       "                <audio controls=\"controls\" autoplay=\"autoplay\">\n",
       "                    <source src=\"https://sound.peal.io/ps/audios/000/000/537/original/woo_vu_luvub_dub_dub.wav\" type=\"audio/x-wav\" />\n",
       "                    Your browser does not support the audio element.\n",
       "                </audio>\n",
       "              "
      ],
      "text/plain": [
       "<IPython.lib.display.Audio object>"
      ]
     },
     "metadata": {},
     "output_type": "display_data"
    },
    {
     "data": {
      "image/png": "[encoded data removed]",
      "text/plain": [
       "<Figure size 432x288 with 1 Axes>"
      ]
     },
     "metadata": {
      "needs_background": "light"
     },
     "output_type": "display_data"
    }
   ],
   "source": [
    "\n",
    "stats = NB_validate(title_tr_en, title_v_en, label_tr, label_v, model)\n",
    "alpha = visualize_validation(stats)\n",
    "allDone()"
   ]
  },
  {
   "cell_type": "code",
   "execution_count": 148,
   "metadata": {
    "pycharm": {
     "is_executing": false
    }
   },
   "outputs": [
    {
     "data": {
      "text/plain": [
       "MultinomialNB(alpha=0.2, class_prior=None, fit_prior=True)"
      ]
     },
     "execution_count": 148,
     "metadata": {},
     "output_type": "execute_result"
    }
   ],
   "source": [
    "model.set_params(alpha = 0.2)\n",
    "title_en = abs(title_en)\n",
    "model.fit(title_en, label)"
   ]
  },
  {
   "cell_type": "code",
   "execution_count": 149,
   "metadata": {
    "scrolled": true
   },
   "outputs": [
    {
     "name": "stdout",
     "output_type": "stream",
     "text": [
      "(0.2661375628041971, 0.25581977603458245, 0.25484813291364083, None)\n",
      "(0.3391106442577031, 0.3391106442577031, 0.3391106442577031, None)\n",
      "['YTA' 'NTA']\n"
     ]
    }
   ],
   "source": [
    "\n",
    "pred_t = model.predict(title_t_en)\n",
    "\n",
    "print(precision_recall_fscore_support(label_t, pred_t, average='macro'))\n",
    "print(precision_recall_fscore_support(label_t, pred_t, average='micro'))\n",
    "\n",
    "\n",
    "#print(\"Accuracy = \" + str((tp+tn)/(len(y_test))))\n",
    "#print(\"Precision = \"+ str(tp/(tp+fp)))\n",
    "#print(\"Recall = \"+ str(tp/(tp+fn)))\n",
    "#print(\"F1 = \"+ str(2*tp/(2*tp+fp +fn)))\n",
    "q = vectorizer.transform(['AITA for failing my students', 'AITA for hating C']).toarray()\n",
    "print(model.predict(q))\n",
    "\n"
   ]
  },
  {
   "cell_type": "code",
   "execution_count": 150,
   "metadata": {},
   "outputs": [],
   "source": [
    "from sklearn.metrics import confusion_matrix\n",
    "\n",
    "cf = confusion_matrix(label_t, model.predict(title_t_en))\n",
    "\n",
    "measures_macro = list(precision_recall_fscore_support(label_t, model.predict(title_t_en), average='macro'))[:-1]\n",
    "measures_micro = list(precision_recall_fscore_support(label_t, model.predict(title_t_en), average='micro'))[:-1]"
   ]
  },
  {
   "cell_type": "code",
   "execution_count": 151,
   "metadata": {},
   "outputs": [
    {
     "data": {
      "text/html": [
       "<div>\n",
       "<style scoped>\n",
       "    .dataframe tbody tr th:only-of-type {\n",
       "        vertical-align: middle;\n",
       "    }\n",
       "\n",
       "    .dataframe tbody tr th {\n",
       "        vertical-align: top;\n",
       "    }\n",
       "\n",
       "    .dataframe thead th {\n",
       "        text-align: right;\n",
       "    }\n",
       "</style>\n",
       "<table border=\"1\" class=\"dataframe\">\n",
       "  <thead>\n",
       "    <tr style=\"text-align: right;\">\n",
       "      <th></th>\n",
       "      <th>ESH</th>\n",
       "      <th>NAH</th>\n",
       "      <th>NTA</th>\n",
       "      <th>SHP</th>\n",
       "      <th>YTA</th>\n",
       "    </tr>\n",
       "  </thead>\n",
       "  <tbody>\n",
       "    <tr>\n",
       "      <th>ESH</th>\n",
       "      <td>78</td>\n",
       "      <td>36</td>\n",
       "      <td>239</td>\n",
       "      <td>36</td>\n",
       "      <td>144</td>\n",
       "    </tr>\n",
       "    <tr>\n",
       "      <th>NAH</th>\n",
       "      <td>46</td>\n",
       "      <td>159</td>\n",
       "      <td>476</td>\n",
       "      <td>34</td>\n",
       "      <td>208</td>\n",
       "    </tr>\n",
       "    <tr>\n",
       "      <th>NTA</th>\n",
       "      <td>139</td>\n",
       "      <td>238</td>\n",
       "      <td>1156</td>\n",
       "      <td>96</td>\n",
       "      <td>430</td>\n",
       "    </tr>\n",
       "    <tr>\n",
       "      <th>SHP</th>\n",
       "      <td>47</td>\n",
       "      <td>76</td>\n",
       "      <td>296</td>\n",
       "      <td>56</td>\n",
       "      <td>129</td>\n",
       "    </tr>\n",
       "    <tr>\n",
       "      <th>YTA</th>\n",
       "      <td>126</td>\n",
       "      <td>199</td>\n",
       "      <td>676</td>\n",
       "      <td>104</td>\n",
       "      <td>488</td>\n",
       "    </tr>\n",
       "  </tbody>\n",
       "</table>\n",
       "</div>"
      ],
      "text/plain": [
       "     ESH  NAH   NTA  SHP  YTA\n",
       "ESH   78   36   239   36  144\n",
       "NAH   46  159   476   34  208\n",
       "NTA  139  238  1156   96  430\n",
       "SHP   47   76   296   56  129\n",
       "YTA  126  199   676  104  488"
      ]
     },
     "execution_count": 151,
     "metadata": {},
     "output_type": "execute_result"
    }
   ],
   "source": [
    "cf_df = pd.DataFrame(cf, columns=['ESH', 'NAH', 'NTA', 'SHP', 'YTA'])\n",
    "cf_df.rename(index={0:'ESH',1:'NAH',2:'NTA',3:'SHP',4:'YTA'}, inplace=True)\n",
    "cf_df"
   ]
  },
  {
   "cell_type": "code",
   "execution_count": 152,
   "metadata": {
    "scrolled": true
   },
   "outputs": [
    {
     "data": {
      "text/html": [
       "<div>\n",
       "<style scoped>\n",
       "    .dataframe tbody tr th:only-of-type {\n",
       "        vertical-align: middle;\n",
       "    }\n",
       "\n",
       "    .dataframe tbody tr th {\n",
       "        vertical-align: top;\n",
       "    }\n",
       "\n",
       "    .dataframe thead th {\n",
       "        text-align: right;\n",
       "    }\n",
       "</style>\n",
       "<table border=\"1\" class=\"dataframe\">\n",
       "  <thead>\n",
       "    <tr style=\"text-align: right;\">\n",
       "      <th></th>\n",
       "      <th>Averaging</th>\n",
       "      <th>Precision</th>\n",
       "      <th>Recall</th>\n",
       "      <th>FScore</th>\n",
       "    </tr>\n",
       "  </thead>\n",
       "  <tbody>\n",
       "    <tr>\n",
       "      <th>0</th>\n",
       "      <td>macro</td>\n",
       "      <td>0.266138</td>\n",
       "      <td>0.255820</td>\n",
       "      <td>0.254848</td>\n",
       "    </tr>\n",
       "    <tr>\n",
       "      <th>1</th>\n",
       "      <td>micro</td>\n",
       "      <td>0.339111</td>\n",
       "      <td>0.339111</td>\n",
       "      <td>0.339111</td>\n",
       "    </tr>\n",
       "  </tbody>\n",
       "</table>\n",
       "</div>"
      ],
      "text/plain": [
       "  Averaging  Precision    Recall    FScore\n",
       "0     macro   0.266138  0.255820  0.254848\n",
       "1     micro   0.339111  0.339111  0.339111"
      ]
     },
     "execution_count": 152,
     "metadata": {},
     "output_type": "execute_result"
    }
   ],
   "source": [
    "measures_macro = ['macro'] + measures_macro\n",
    "measures_micro = ['micro'] + measures_micro\n",
    "measures_df = pd.DataFrame([measures_macro, measures_micro], columns=['Averaging', 'Precision', 'Recall', 'FScore'])\n",
    "measures_df"
   ]
  },
  {
   "cell_type": "code",
   "execution_count": null,
   "metadata": {},
   "outputs": [],
   "source": [
    "q = vectorizer.transform(['WIBTA if I put 250 slides in a lecture', 'AITA for starting a war', 'AITA for hating everyone']).toarray()\n",
    "print(model.predict(q))\n",
    "\n"
   ]
  },
  {
   "cell_type": "code",
   "execution_count": null,
   "metadata": {},
   "outputs": [],
   "source": []
  },
  {
   "cell_type": "code",
   "execution_count": null,
   "metadata": {},
   "outputs": [],
   "source": []
  },
  {
   "cell_type": "code",
   "execution_count": null,
   "metadata": {},
   "outputs": [],
   "source": []
  }
 ],
 "metadata": {
  "kernelspec": {
   "display_name": "Python 3",
   "language": "python",
   "name": "python3"
  },
  "language_info": {
   "codemirror_mode": {
    "name": "ipython",
    "version": 3
   },
   "file_extension": ".py",
   "mimetype": "text/x-python",
   "name": "python",
   "nbconvert_exporter": "python",
   "pygments_lexer": "ipython3",
   "version": "3.7.1"
  },
  "pycharm": {
   "stem_cell": {
    "cell_type": "raw",
    "metadata": {
     "collapsed": false
    },
    "source": []
   }
  }
 },
 "nbformat": 4,
 "nbformat_minor": 2
}
