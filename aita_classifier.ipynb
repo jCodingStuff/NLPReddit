{
 "cells": [
  {
   "cell_type": "code",
   "execution_count": 313,
   "metadata": {},
   "outputs": [],
   "source": [
    "import json\n",
    "import nltk\n",
    "import scipy\n",
    "\n",
    "# tokenizing\n",
    "from nltk import word_tokenize\n",
    "\n",
    "\n",
    "#stop-words\n",
    "from nltk.corpus import stopwords\n",
    "stop_words=set(nltk.corpus.stopwords.words('english'))\n",
    "\n",
    "\n",
    "\n",
    "#word2vec\n",
    "from gensim.models import Word2Vec  \n",
    "\n",
    "import numpy as np\n",
    "import pandas as pd\n",
    "import seaborn as sns\n",
    "import matplotlib.pyplot as plt\n",
    "%matplotlib inline\n",
    "\n",
    "\n",
    "with open('data.json') as json_file:      \n",
    "    data_r = json.load(json_file)"
   ]
  },
  {
   "cell_type": "code",
   "execution_count": 314,
   "metadata": {},
   "outputs": [
    {
     "name": "stdout",
     "output_type": "stream",
     "text": [
      "1548904042.0\n",
      "Your data contains no repeated submissions\n"
     ]
    }
   ],
   "source": [
    "ids = [w['id'] for w in data_r]\n",
    "print(data_r[-1]['created_utc'])\n",
    "if len(ids) == len(set(ids)):\n",
    "    print(\"Your data contains no repeated submissions\")"
   ]
  },
  {
   "cell_type": "code",
   "execution_count": 299,
   "metadata": {},
   "outputs": [],
   "source": [
    "def transform(label):\n",
    "    max = 0\n",
    "    new_label = \"\"\n",
    "    for k, v in label.items():\n",
    "        if v >= max:\n",
    "            \n",
    "            max = v\n",
    "            new_label = k\n",
    "    return new_label\n",
    "    \n",
    "\n"
   ]
  },
  {
   "cell_type": "code",
   "execution_count": 300,
   "metadata": {},
   "outputs": [
    {
     "name": "stdout",
     "output_type": "stream",
     "text": [
      "35100\n",
      "29100\n"
     ]
    }
   ],
   "source": [
    "for w in data_r:\n",
    "    if type(w['label'])==type({}):\n",
    "        w['label'] = transform(w['label'])\n",
    "\n",
    "print(len(data_r))\n",
    "balance(6000)\n",
    "def balance(n):  \n",
    "    counter = n\n",
    "    for i, w in enumerate(data_r):\n",
    "        if w['label'] == 'NTA' and counter>0:\n",
    "            del data_r[i]\n",
    "            counter-=1\n",
    "\n",
    "    print(len(data_r))"
   ]
  },
  {
   "cell_type": "code",
   "execution_count": 301,
   "metadata": {},
   "outputs": [
    {
     "name": "stdout",
     "output_type": "stream",
     "text": [
      "(20822,)\n",
      "(20822,)\n"
     ]
    }
   ],
   "source": [
    "ids = np.array([w['id'] for w in data_r if w['label']!= None])\n",
    "titles = np.array([w['title'] for w in data_r if w['label']!= None])\n",
    "bodies = np.array([w['selftext'] for w in data_r if w['label']!= None])\n",
    "labels = np.array([w['label'] for w in data_r if w['label'] != None])\n",
    "\n",
    "print(titles.shape)\n",
    "print(labels.shape)"
   ]
  },
  {
   "cell_type": "code",
   "execution_count": 302,
   "metadata": {},
   "outputs": [],
   "source": [
    "data = np.vstack([titles,labels, bodies])\n",
    "data = np.vstack([ids, data])"
   ]
  },
  {
   "cell_type": "code",
   "execution_count": 303,
   "metadata": {},
   "outputs": [
    {
     "data": {
      "text/plain": [
       "<matplotlib.axes._subplots.AxesSubplot at 0x1a32837438>"
      ]
     },
     "execution_count": 303,
     "metadata": {},
     "output_type": "execute_result"
    },
    {
     "data": {
      "image/png": "[encoded data removed]",
      "text/plain": [
       "<Figure size 432x288 with 1 Axes>"
      ]
     },
     "metadata": {
      "needs_background": "light"
     },
     "output_type": "display_data"
    }
   ],
   "source": [
    "datas = pd.DataFrame(data=data.T, columns = ['id', 'title', 'label', 'bodies'])\n",
    "datas.set_index('id')\n",
    "datas[400:410]\n",
    "datas.groupby(\"label\")['id'].count().plot.bar()"
   ]
  },
  {
   "cell_type": "code",
   "execution_count": 304,
   "metadata": {},
   "outputs": [],
   "source": [
    "from sklearn.model_selection import train_test_split\n",
    "def split(inputs, labels):\n",
    "    title, title_t, label, label_t = train_test_split(inputs, labels)\n",
    "    title_tr, title_v, label_tr, label_v= train_test_split(title, label)\n",
    "    \n",
    "    return title, title_t, title_tr, title_v, label, label_t, label_tr, label_v"
   ]
  },
  {
   "cell_type": "code",
   "execution_count": 305,
   "metadata": {},
   "outputs": [],
   "source": [
    "title, title_t, title_tr, title_v, label, label_t, label_tr, label_v = split(titles, labels)"
   ]
  },
  {
   "cell_type": "code",
   "execution_count": 306,
   "metadata": {},
   "outputs": [],
   "source": [
    "from sklearn.feature_extraction.text import CountVectorizer\n",
    "from sklearn.naive_bayes import MultinomialNB\n",
    "\n",
    "def vectorize(title, title_t, title_tr, title_v):\n",
    "    vectorizer = CountVectorizer()\n",
    "\n",
    "    #With this I create a vectorizer and fit it on all questions\n",
    "    vectorizer.fit(titles)\n",
    "    #Here I transform the vectorizer with the specific questions, depending on if it will \n",
    "    #be used on the training, validation or all questions\n",
    "    vectors = []\n",
    "        \n",
    "    title_tr_en = vectorizer.transform(title_tr).toarray()\n",
    "    title_v_en = vectorizer.transform(title_v).toarray()\n",
    "    title_en = vectorizer.transform(title).toarray()\n",
    "    title_t_en = vectorizer.transform(title_t).toarray()\n",
    "    \n",
    "    return vectorizer, title_en, title_t_en, title_tr_en, title_v_en"
   ]
  },
  {
   "cell_type": "code",
   "execution_count": 307,
   "metadata": {},
   "outputs": [
    {
     "name": "stdout",
     "output_type": "stream",
     "text": [
      "(15616, 10053)\n",
      "(5206, 10053)\n",
      "(11712, 10053)\n",
      "(3904, 10053)\n"
     ]
    },
    {
     "data": {
      "text/plain": [
       "MultinomialNB(alpha=1.0, class_prior=None, fit_prior=True)"
      ]
     },
     "execution_count": 307,
     "metadata": {},
     "output_type": "execute_result"
    }
   ],
   "source": [
    "vectorizer, title_en, title_t_en, title_tr_en, title_v_en = vectorize(title, title_t, title_tr, title_v)\n",
    "print(title_en.shape)\n",
    "print(title_t_en.shape)\n",
    "print(title_tr_en.shape)\n",
    "print(title_v_en.shape)\n",
    "#Here I create a Multinomial Naïve Bayes and train it on the training set\n",
    "model = MultinomialNB()\n",
    "model.fit(title_tr_en, label_tr)"
   ]
  },
  {
   "cell_type": "code",
   "execution_count": 308,
   "metadata": {},
   "outputs": [],
   "source": [
    "from sklearn.metrics import precision_recall_fscore_support\n",
    "from numpy import vstack\n",
    "\n",
    "def NB_validate(value_tr_en, value_v_en, label_tr, label_v, model):\n",
    "    precision_v = np.array([0, 0])\n",
    "    recall_v = np.array([0, 0])\n",
    "    f_v = np.array([0, 0])\n",
    "\n",
    "    for i in range(0,21, 1):\n",
    "        alpha = i/10\n",
    "        model.set_params(alpha = alpha)\n",
    "        model.fit(value_tr_en, label_tr)\n",
    "        prediction = model.predict(value_v_en)\n",
    "        test = precision_recall_fscore_support(label_v, prediction, average='macro')\n",
    "        precision_v = vstack((precision_v, (alpha, test[0])))\n",
    "        recall_v = vstack((recall_v, (alpha, test[1])))\n",
    "        f_v = vstack((f_v, (alpha, test[2])))\n",
    "\n",
    "    return [precision_v, recall_v, f_v]\n"
   ]
  },
  {
   "cell_type": "code",
   "execution_count": 309,
   "metadata": {},
   "outputs": [],
   "source": [
    "def visualize_validation(measures):\n",
    "    precision_v = measures[0]\n",
    "    recall_v = measures[1]\n",
    "    f_v = measures[2]\n",
    "    x3 = precision_v[1:-1, 0]\n",
    "    x1 = recall_v[1:, 0]\n",
    "    x2 = f_v[1:-1, 0]\n",
    "\n",
    "    y3 = precision_v[1:-1, 1]\n",
    "    y1 = recall_v[1:, 1]\n",
    "    y2 = f_v[1:-1, 1]\n",
    "\n",
    "    # Create plots with pre-defined labels.\n",
    "    fig, ax = plt.subplots()\n",
    "    ax.plot(x1, y1, '.-', label='Recall')\n",
    "    ax.plot(x2, y2, 'r--', label='F')\n",
    "    ax.plot(x3, y3, 'o-', label='Precision')\n",
    "\n",
    "    legend = ax.legend(fontsize='x-large')\n",
    "\n",
    "    def npmax(y1, y2, y3):\n",
    "        max_y = 0\n",
    "        max_i = 0\n",
    "        for i,y in enumerate(y1):\n",
    "            y = 0.1*y + 0.1*y2[i-1] + 0.8*y3[i-1]\n",
    "            if y > max_y:\n",
    "                max_y = y\n",
    "                max_i = i\n",
    "\n",
    "        return (max_i, max_y)\n",
    "\n",
    "    acc_i, acc_max = npmax(y1, y2, y3)\n",
    "    max_alpha = x3[acc_i-1]\n",
    "    \n",
    "    return max_alpha"
   ]
  },
  {
   "cell_type": "code",
   "execution_count": 310,
   "metadata": {},
   "outputs": [
    {
     "name": "stderr",
     "output_type": "stream",
     "text": [
      "/Users/admin/anaconda3/lib/python3.7/site-packages/sklearn/naive_bayes.py:480: UserWarning: alpha too small will result in numeric errors, setting alpha = 1.0e-10\n",
      "  'setting alpha = %.1e' % _ALPHA_MIN)\n"
     ]
    },
    {
     "data": {
      "image/png": "[encoded data removed]",
      "text/plain": [
       "<Figure size 432x288 with 1 Axes>"
      ]
     },
     "metadata": {
      "needs_background": "light"
     },
     "output_type": "display_data"
    }
   ],
   "source": [
    "\n",
    "stats = NB_validate(title_tr_en, title_v_en, label_tr, label_v, model)\n",
    "alpha = visualize_validation(stats)"
   ]
  },
  {
   "cell_type": "code",
   "execution_count": 311,
   "metadata": {},
   "outputs": [
    {
     "data": {
      "text/plain": [
       "MultinomialNB(alpha=0.5, class_prior=None, fit_prior=True)"
      ]
     },
     "execution_count": 311,
     "metadata": {},
     "output_type": "execute_result"
    }
   ],
   "source": [
    "model.set_params(alpha = 0.5)\n",
    "model.fit(title_en, label)"
   ]
  },
  {
   "cell_type": "code",
   "execution_count": 312,
   "metadata": {},
   "outputs": [
    {
     "name": "stdout",
     "output_type": "stream",
     "text": [
      "(0.2572986078066235, 0.24101383230997006, 0.22927411636951223, None)\n",
      "(0.3457548981943911, 0.3457548981943911, 0.3457548981943911, None)\n",
      "['NTA' 'YTA' 'NTA']\n"
     ]
    }
   ],
   "source": [
    "pred_t = model.predict(title_t_en)\n",
    "\n",
    "print(precision_recall_fscore_support(label_t, pred_t, average='macro'))\n",
    "print(precision_recall_fscore_support(label_t, pred_t, average='micro'))\n",
    "\n",
    "\n",
    "#print(\"Accuracy = \" + str((tp+tn)/(len(y_test))))\n",
    "#print(\"Precision = \"+ str(tp/(tp+fp)))\n",
    "#print(\"Recall = \"+ str(tp/(tp+fn)))\n",
    "#print(\"F1 = \"+ str(2*tp/(2*tp+fp +fn)))\n",
    "q = vectorizer.transform(['AITA for failing my students', 'AITA for hating jews', 'AITA for hating C']).toarray()\n",
    "print(model.predict(q))\n",
    "\n"
   ]
  },
  {
   "cell_type": "code",
   "execution_count": 170,
   "metadata": {},
   "outputs": [
    {
     "name": "stdout",
     "output_type": "stream",
     "text": [
      "{'a': 2, 'b': 3}\n"
     ]
    }
   ],
   "source": []
  },
  {
   "cell_type": "code",
   "execution_count": 171,
   "metadata": {},
   "outputs": [],
   "source": []
  },
  {
   "cell_type": "code",
   "execution_count": 172,
   "metadata": {},
   "outputs": [
    {
     "name": "stdout",
     "output_type": "stream",
     "text": [
      "{'b': 3}\n"
     ]
    }
   ],
   "source": []
  },
  {
   "cell_type": "code",
   "execution_count": null,
   "metadata": {},
   "outputs": [],
   "source": []
  }
 ],
 "metadata": {
  "kernelspec": {
   "display_name": "Python 3",
   "language": "python",
   "name": "python3"
  },
  "language_info": {
   "codemirror_mode": {
    "name": "ipython",
    "version": 3
   },
   "file_extension": ".py",
   "mimetype": "text/x-python",
   "name": "python",
   "nbconvert_exporter": "python",
   "pygments_lexer": "ipython3",
   "version": "3.7.1"
  }
 },
 "nbformat": 4,
 "nbformat_minor": 2
}
