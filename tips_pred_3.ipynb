{
 "cells": [
  {
   "cell_type": "markdown",
   "metadata": {},
   "source": [
    "# Tips Prediction #\n",
    "\n",
    "In this library, we will explore the data which we retrieved from *LifeProTips*, *ShittyLifeProTips*, *UnethicalLifeProTips* and *IllegalLifeProTips*.\n",
    "Afterwards, we will make some predictions to determine which subreddit a certain post belongs to."
   ]
  },
  {
   "cell_type": "code",
   "execution_count": 1,
   "metadata": {},
   "outputs": [],
   "source": [
    "# Import everything in case we just want to run particular cells\n",
    "import json\n",
    "import math\n",
    "import pandas as pd\n",
    "import re\n",
    "from string import punctuation\n",
    "from nltk.stem import SnowballStemmer\n",
    "from nltk.corpus import stopwords\n",
    "import numpy as np\n",
    "from sklearn.feature_extraction.text import CountVectorizer\n",
    "from sklearn.metrics import precision_recall_fscore_support\n",
    "from sklearn.naive_bayes import MultinomialNB\n",
    "from sklearn.metrics import confusion_matrix\n",
    "from sklearn.svm import SVC\n",
    "from gensim.models import Word2Vec, KeyedVectors\n",
    "from gensim.scripts.glove2word2vec import glove2word2vec\n",
    "from sklearn.linear_model import LogisticRegression\n",
    "import matplotlib.pyplot as plt\n",
    "%matplotlib inline"
   ]
  },
  {
   "cell_type": "markdown",
   "metadata": {},
   "source": [
    "## 1. Load and split ##\n",
    "\n",
    "Let's start by loading the posts into memory"
   ]
  },
  {
   "cell_type": "code",
   "execution_count": 2,
   "metadata": {},
   "outputs": [],
   "source": [
    "import json\n",
    "\n",
    "posts = {}\n",
    "\n",
    "# Import LifeProTips\n",
    "with open('tips/lifeprotips_dump_1.json', 'r') as lptf:\n",
    "    posts['lpt'] = json.load(lptf)\n",
    "\n",
    "# Import ShittyLifeProTips\n",
    "with open('tips/shittylifeprotips_dump_1.json', 'r') as slptf:\n",
    "    posts['slpt'] = json.load(slptf)\n",
    "    \n",
    "# Import UnethicalLifeProTips\n",
    "with open('tips/unethicallifeprotips_dump_1.json', 'r') as ulptf:\n",
    "    posts['ulpt'] = json.load(ulptf)\n",
    "\n",
    "# Import IllegalLifeProTips\n",
    "with open('tips/illegallifeprotips_dump_1.json', 'r') as ilptf:\n",
    "    posts['ilpt'] = json.load(ilptf)"
   ]
  },
  {
   "cell_type": "markdown",
   "metadata": {},
   "source": [
    "Let's remove any duplicate from the posts"
   ]
  },
  {
   "cell_type": "code",
   "execution_count": 3,
   "metadata": {},
   "outputs": [],
   "source": [
    "for subreddit in posts:\n",
    "    obs_ids = [] # observed ids\n",
    "    unique_posts = [] # unique posts\n",
    "    for post in posts[subreddit]: # every post is a dictionary\n",
    "        if post['id'] not in obs_ids:\n",
    "            obs_ids.append(post['id'])\n",
    "            unique_posts.append(post)\n",
    "    posts[subreddit] = unique_posts"
   ]
  },
  {
   "cell_type": "markdown",
   "metadata": {},
   "source": [
    "Check the amount of unique posts we retrieved per subreddit $\\rightarrow$ No duplicates!"
   ]
  },
  {
   "cell_type": "code",
   "execution_count": 4,
   "metadata": {},
   "outputs": [
    {
     "name": "stdout",
     "output_type": "stream",
     "text": [
      "30000 posts retrieved from lpt\n",
      "30000 posts retrieved from slpt\n",
      "30000 posts retrieved from ulpt\n",
      "10000 posts retrieved from ilpt\n"
     ]
    }
   ],
   "source": [
    "for (s, a) in posts.items():\n",
    "    print('{} posts retrieved from {}'.format(len(a), s))"
   ]
  },
  {
   "cell_type": "markdown",
   "metadata": {},
   "source": [
    "The reason why there are only 10k posts from *IllegalLifeProTips* is because the community is relatively young compared to the rest of subreddits. It was founded a year ago while the other three appeared 7 years ago.\n",
    "\n",
    "---\n",
    "\n",
    "Now, let's shuffle the posts for each subreddit to perform an arbitrary and even train/validation/test division"
   ]
  },
  {
   "cell_type": "code",
   "execution_count": 5,
   "metadata": {},
   "outputs": [],
   "source": [
    "import random\n",
    "\n",
    "for (s, p) in posts.items():\n",
    "    random.shuffle(p)"
   ]
  },
  {
   "cell_type": "markdown",
   "metadata": {},
   "source": [
    "We will perfom a train/validation/test split as follows:\n",
    "* $4/9$ for training ($2/3$ of $2/3$)\n",
    "* $2/9$ for validation ($1/3$ of $2/3$)\n",
    "* $1/3$ for testing"
   ]
  },
  {
   "cell_type": "code",
   "execution_count": 6,
   "metadata": {},
   "outputs": [],
   "source": [
    "import math\n",
    "\n",
    "# Create and empty dictionary to store train, validation and test posts\n",
    "posts_struct = {'train':[], 'validation':[], 'test':[]}\n",
    "\n",
    "# For each subreddit, split\n",
    "for p in posts.values():\n",
    "    # p is the list of posts (each post is a dictionary)\n",
    "    # train + validation is 2/3; test is 1/3\n",
    "    split_index = int(math.ceil((2/3)*len(p)))\n",
    "    p_trainval = p[:split_index]\n",
    "    p_test = p[split_index:]\n",
    "    # Now, out of train+validation, 2/3 go to train and 1/3 to validation\n",
    "    split_index = int(math.ceil((2/3)*len(p_trainval)))\n",
    "    p_train = p_trainval[:split_index]\n",
    "    p_validation = p_trainval[split_index:]\n",
    "    \n",
    "    # Finally, add the posts to their respective parts in the posts_struct dictionary\n",
    "    posts_struct['train'].extend(p_train)\n",
    "    posts_struct['validation'].extend(p_validation)\n",
    "    posts_struct['test'].extend(p_test)\n",
    "\n",
    "# Shuffle the lists\n",
    "for (sep, p) in posts_struct.items():\n",
    "    random.shuffle(p)"
   ]
  },
  {
   "cell_type": "markdown",
   "metadata": {},
   "source": [
    "Check that we performed a correct split"
   ]
  },
  {
   "cell_type": "code",
   "execution_count": 7,
   "metadata": {},
   "outputs": [
    {
     "name": "stdout",
     "output_type": "stream",
     "text": [
      "Total number of instances: 100000\n",
      "Percentage of train instances: 44.446999999999996\n",
      "Percentage of validation instances: 22.220000000000002\n",
      "Percentage of test instances: 33.333\n"
     ]
    }
   ],
   "source": [
    "ins_tot = len(posts_struct['train']) + len(posts_struct['validation']) + len(posts_struct['test'])\n",
    "print('Total number of instances: {}'.format(ins_tot))\n",
    "print('Percentage of train instances: {}'.format((len(posts_struct['train'])/ins_tot)*100))\n",
    "print('Percentage of validation instances: {}'.format((len(posts_struct['validation'])/ins_tot)*100))\n",
    "print('Percentage of test instances: {}'.format((len(posts_struct['test'])/ins_tot)*100))"
   ]
  },
  {
   "cell_type": "markdown",
   "metadata": {},
   "source": [
    "We just need one more step to perform. Creating `pandas` DataFrames for training, validation and testing will make data handling easier"
   ]
  },
  {
   "cell_type": "code",
   "execution_count": 8,
   "metadata": {},
   "outputs": [],
   "source": [
    "import pandas as pd\n",
    "\n",
    "# DataFrame for training\n",
    "df_train = pd.DataFrame({'instance':[s['title'] for s in posts_struct['train']],\n",
    "                         'label':[s['label'] for s in posts_struct['train']]})\n",
    "\n",
    "# DataFrame for validation\n",
    "df_validation = pd.DataFrame({'instance':[s['title'] for s in posts_struct['validation']],\n",
    "                              'label':[s['label'] for s in posts_struct['validation']]})\n",
    "\n",
    "# DataFrame for testing\n",
    "df_test = pd.DataFrame({'instance':[s['title'] for s in posts_struct['test']],\n",
    "                        'label':[s['label'] for s in posts_struct['test']]})"
   ]
  },
  {
   "cell_type": "markdown",
   "metadata": {},
   "source": [
    "## 2. Instance pre-processing ##\n",
    "\n",
    "Define a method to clean the instances<br>\n",
    "**Disclaimer:** we are **not** copying this from Assignment 2"
   ]
  },
  {
   "cell_type": "code",
   "execution_count": 9,
   "metadata": {},
   "outputs": [],
   "source": [
    "def clean(text, stem_words=True):\n",
    "    \n",
    "    # Empty question\n",
    "    if type(text) != str or text=='':\n",
    "        return ''\n",
    "    \n",
    "    # Make text lowercase\n",
    "    text = text.lower()\n",
    "\n",
    "    # Clean the text\n",
    "    text = re.sub(\"\\'s\", \" \", text) # we have cases like \"Sam is\" or \"Sam's\" (i.e. his) these two cases aren't separable, I choose to compromise are kill \"'s\" directly\n",
    "    text = re.sub(\"\\'t'\", \" not \", text)\n",
    "    text = re.sub(\" whats \", \" what is \", text, flags=re.IGNORECASE)\n",
    "    text = re.sub(\" thats \", \" that is \", text, flags=re.IGNORECASE)\n",
    "    text = re.sub(\"\\'ve\", \" have \", text)\n",
    "    text = re.sub(\"-\", \" \", text)\n",
    "    #you might need more\n",
    "    \n",
    "    # remove comma between numbers, i.e. 15,000 -> 15000\n",
    "    text = re.sub('(?<=[0-9])\\,(?=[0-9])', \"\", text)\n",
    "    \n",
    "    # remove punctuation\n",
    "    for c in punctuation:\n",
    "        text = re.sub(\"\\\\\" + c, \"\", text)\n",
    "        \n",
    "    # split text\n",
    "    n_text = text.split();\n",
    "    \n",
    "    # remove stopwords and subreddit keywords\n",
    "    stops = set(['the', 'to', 'now', 'should', 'just', 'very', 'too', 'again', 'in', 'out', 'on',\n",
    "                 'over', 'at', 'of', 'about'])\n",
    "    #stops = set(stopwords.words('english'))\n",
    "    sub_kwords = set(['lpt', 'ulpt', 'ilpt', 'slpt'])\n",
    "    numbers = set(['one', 'two', 'three', 'four', 'five', 'six', 'seven', 'eight', 'nine', 'ten', 'eleven', 'twelve'])\n",
    "    n_text = [word for word in n_text if word not in stops|sub_kwords|numbers if word.isalpha()]\n",
    "    \n",
    "    # Change numbers and other similar words\n",
    "    #subs = [('one', '1'), ('ii', '2'), ('two', '2'), ('iii', '3'), ('three', '3'), ('iv', '4'), ('four', '4'),\n",
    "    #        ('v', '5'), ('five', '5'), ('vi', '6'), ('six', '6'), ('vii', '7'), ('seven', '7'), ('viii', '8'),\n",
    "    #        ('eight', '8'), ('ix', '9'), ('nine', '9'), ('ten', '10'), ('eleven', '11'), ('twelve', '12')]\n",
    "    #for i, word in enumerate(n_text):\n",
    "    #    for (bad, good) in subs:\n",
    "    #        if word == bad:\n",
    "    #            n_text[i] = good\n",
    "    #            break\n",
    "    \n",
    "    # Return a list of words\n",
    "    return ' '.join(n_text)"
   ]
  },
  {
   "cell_type": "markdown",
   "metadata": {},
   "source": [
    "Clean the DataFrames"
   ]
  },
  {
   "cell_type": "code",
   "execution_count": 10,
   "metadata": {},
   "outputs": [],
   "source": [
    "df_train['instance'] = df_train['instance'].apply(clean)\n",
    "df_validation['instance'] = df_validation['instance'].apply(clean)\n",
    "df_test['instance'] = df_test['instance'].apply(clean)\n",
    "\n",
    "# Drop empty posts\n",
    "df_train = df_train[df_train['instance'] != \"\"]\n",
    "df_train = df_train[df_train['instance'] != \" \"]\n",
    "df_validation = df_validation[df_validation['instance'] != \"\"]\n",
    "df_validation = df_validation[df_validation['instance'] != \" \"]\n",
    "df_test = df_test[df_test['instance'] != \"\"]\n",
    "df_test = df_test[df_test['instance'] != \" \"]"
   ]
  },
  {
   "cell_type": "markdown",
   "metadata": {},
   "source": [
    "## 3. Train the ML Models ##"
   ]
  },
  {
   "cell_type": "markdown",
   "metadata": {},
   "source": [
    "### Word2Vec ###\n",
    "\n",
    "We will train a `Word2Vec` model from `gensim` using our entire corpus.\n",
    "\n",
    "First, we define a function to tokenize a list of strings"
   ]
  },
  {
   "cell_type": "code",
   "execution_count": 11,
   "metadata": {},
   "outputs": [],
   "source": [
    "def tokenize_arr(sentences):\n",
    "    \"\"\"Given a list of sentences, return the list with the tokenized strings (a list itself).\"\"\"\n",
    "    new_sentences = sentences.copy()\n",
    "    for i, sentence in enumerate(new_sentences):\n",
    "        new_sentences[i] = sentence.split()\n",
    "    return new_sentences"
   ]
  },
  {
   "cell_type": "markdown",
   "metadata": {},
   "source": [
    "Generate the `sentences` for `Word2Vec` using all corpus"
   ]
  },
  {
   "cell_type": "code",
   "execution_count": 12,
   "metadata": {},
   "outputs": [],
   "source": [
    "sentences = tokenize_arr(np.concatenate((df_train['instance'].values,\n",
    "                                         df_validation['instance'].values,\n",
    "                                         df_test['instance'].values), axis=0))"
   ]
  },
  {
   "cell_type": "markdown",
   "metadata": {},
   "source": [
    "Train `Word2Vec` using `sentences`.<br>\n",
    "We must look for good parameter values regarding `min_count`, `size` and `window`."
   ]
  },
  {
   "cell_type": "code",
   "execution_count": 13,
   "metadata": {},
   "outputs": [],
   "source": [
    "from gensim.models import Word2Vec\n",
    "\n",
    "w2v_model = Word2Vec(sentences, min_count=1, size=200, window=10)"
   ]
  },
  {
   "cell_type": "markdown",
   "metadata": {},
   "source": [
    "Embeddings must be generated for the instances in `df_train`, `df_validation` and `df_test`"
   ]
  },
  {
   "cell_type": "code",
   "execution_count": 14,
   "metadata": {},
   "outputs": [],
   "source": [
    "# Tokenize the submissions in train, validation and test\n",
    "sub_train = tokenize_arr(df_train['instance'].values)\n",
    "sub_validation = tokenize_arr(df_validation['instance'].values)\n",
    "sub_test = tokenize_arr(df_test['instance'].values)"
   ]
  },
  {
   "cell_type": "markdown",
   "metadata": {},
   "source": [
    "Let's define a method to transform a list of tokens into an embedding"
   ]
  },
  {
   "cell_type": "code",
   "execution_count": 15,
   "metadata": {},
   "outputs": [],
   "source": [
    "def sum_lists(lol):\n",
    "    \"\"\"Given a list of lists of equal size, sum its elements (like vector sum) and take the average.\"\"\"\n",
    "    result = []\n",
    "    for element in lol[0]: # Create the size of sum array\n",
    "        result.append(0)\n",
    "    for l in lol: # For every sublist\n",
    "        for i, c in enumerate(l): # For every element\n",
    "            result[i] += c\n",
    "    # Average the sum\n",
    "    for i, v in enumerate(result):\n",
    "        result[i] /= len(lol);\n",
    "    return result"
   ]
  },
  {
   "cell_type": "code",
   "execution_count": 16,
   "metadata": {},
   "outputs": [],
   "source": [
    "def sen2emb(sentence, word_dict):\n",
    "    \"\"\"Transform a tokenized sentence into an embedding by adding the embedding word vectors.\"\"\"\n",
    "    embeddings = []\n",
    "    for token in sentence:\n",
    "        if token in word_dict.vocab:\n",
    "            embeddings.append(word_dict[token].tolist())\n",
    "    embedding = sum_lists(embeddings)\n",
    "    return embedding"
   ]
  },
  {
   "cell_type": "markdown",
   "metadata": {},
   "source": [
    "Generate $x$ for training, validation and testing"
   ]
  },
  {
   "cell_type": "code",
   "execution_count": 17,
   "metadata": {},
   "outputs": [],
   "source": [
    "x_train = [sen2emb(sub, w2v_model.wv) for sub in sub_train]\n",
    "x_validation = [sen2emb(sub, w2v_model.wv) for sub in sub_validation]\n",
    "x_tv = np.concatenate((x_train, x_validation), axis=0)\n",
    "x_test = [sen2emb(sub, w2v_model.wv) for sub in sub_test]"
   ]
  },
  {
   "cell_type": "markdown",
   "metadata": {},
   "source": [
    "Generate the labels for training, validation and testing"
   ]
  },
  {
   "cell_type": "code",
   "execution_count": 18,
   "metadata": {},
   "outputs": [],
   "source": [
    "y_train = df_train['label'].values\n",
    "y_validation = df_validation['label'].values\n",
    "y_tv = np.concatenate((y_train, y_validation), axis=0)\n",
    "y_test = df_test['label'].values"
   ]
  },
  {
   "cell_type": "markdown",
   "metadata": {},
   "source": [
    "Perform **feature standarization** so that the values of each feature in the data have zero-mean and unit-variance.\n",
    "\n",
    "$$x'=\\frac{x-\\overline{x}}{\\sigma}$$\n",
    "\n",
    "Where $x$ is the original feature vector, $\\overline{x} = average(x)$ is the mean of that feature vector, $\\sigma$ is its standard deviation."
   ]
  },
  {
   "cell_type": "code",
   "execution_count": 19,
   "metadata": {},
   "outputs": [],
   "source": [
    "def standarize(lol):\n",
    "    \"\"\"Given a list of list, standarize the sublists.\"\"\"\n",
    "    lol_np = np.array(lol)\n",
    "    avg_v = np.mean(lol_np, axis=0)\n",
    "    std_v = np.std(lol_np, axis=0)\n",
    "    return (lol_np - avg_v) / std_v"
   ]
  },
  {
   "cell_type": "markdown",
   "metadata": {},
   "source": [
    "Standarize $x$ for training, validation and testing"
   ]
  },
  {
   "cell_type": "code",
   "execution_count": 20,
   "metadata": {},
   "outputs": [],
   "source": [
    "x_train = standarize(x_train)\n",
    "x_validation = standarize(x_validation)\n",
    "x_tv = standarize(x_tv)\n",
    "x_test = standarize(x_test)"
   ]
  },
  {
   "cell_type": "markdown",
   "metadata": {},
   "source": [
    "#### Support Vector Machine ####"
   ]
  },
  {
   "cell_type": "markdown",
   "metadata": {},
   "source": [
    "Tune hyperparameters and retrieve measures"
   ]
  },
  {
   "cell_type": "code",
   "execution_count": 21,
   "metadata": {},
   "outputs": [
    {
     "name": "stdout",
     "output_type": "stream",
     "text": [
      "Top regularization: 1.7777777777777777\n",
      "Top accuracy: 0.6080281753736397\n"
     ]
    }
   ],
   "source": [
    "from sklearn.svm import SVC\n",
    "from sklearn.metrics import precision_recall_fscore_support\n",
    "\n",
    "top_accuracy = 0;\n",
    "top_reg = 0;\n",
    "\n",
    "regs = np.linspace(1, 2, 10)\n",
    "accs = []\n",
    "precs = []\n",
    "recs = []\n",
    "fscores = []\n",
    "\n",
    "for reg in regs:\n",
    "    svm_model = SVC(gamma='scale', C=reg)\n",
    "    svm_model.fit(x_train, y_train)\n",
    "    acc = svm_model.score(x_validation, y_validation)\n",
    "    accs.append(acc)\n",
    "    measures = precision_recall_fscore_support(y_validation, svm_model.predict(x_validation), average='macro')\n",
    "    precs.append(measures[0])\n",
    "    recs.append(measures[1])\n",
    "    fscores.append(measures[2])\n",
    "    if acc > top_accuracy:\n",
    "        top_accuracy = acc\n",
    "        top_reg = reg\n",
    "\n",
    "print(\"Top regularization:\", top_reg)\n",
    "print(\"Top accuracy:\", top_accuracy)\n",
    "\n",
    "# Retrain with whole training set and optimal penalty\n",
    "top_model = SVC(gamma='scale', C=top_reg)\n",
    "top_model.fit(x_tv, y_tv);"
   ]
  },
  {
   "cell_type": "markdown",
   "metadata": {},
   "source": [
    "Plot measures vs. penalty"
   ]
  },
  {
   "cell_type": "code",
   "execution_count": 22,
   "metadata": {},
   "outputs": [
    {
     "data": {
      "image/png": "[encoded data removed]",
      "text/plain": [
       "<Figure size 720x720 with 4 Axes>"
      ]
     },
     "metadata": {
      "needs_background": "light"
     },
     "output_type": "display_data"
    }
   ],
   "source": [
    "fig, axes = plt.subplots(nrows=2, ncols=2, figsize=(10,10))\n",
    "\n",
    "# Accuracy vs regularization\n",
    "axes[0][0].plot(regs, accs, lw=1.5)\n",
    "axes[0][0].set_xlabel('Regularization')\n",
    "axes[0][0].set_ylabel('Accuracy')\n",
    "axes[0][0].set_title('Accuracy vs. Regularization for SVM')\n",
    "\n",
    "# Precision vs regularization\n",
    "axes[0][1].plot(regs, precs, lw=1.5)\n",
    "axes[0][1].set_xlabel('Regularization')\n",
    "axes[0][1].set_ylabel('Precision')\n",
    "axes[0][1].set_title('Precision vs. Regularization for SVM')\n",
    "\n",
    "# Recall vs regularization\n",
    "axes[1][0].plot(regs, recs, lw=1.5)\n",
    "axes[1][0].set_xlabel('Regularization')\n",
    "axes[1][0].set_ylabel('Recall')\n",
    "axes[1][0].set_title('Recall vs. Regularization for SVM')\n",
    "\n",
    "# FScore vs regularization\n",
    "axes[1][1].plot(regs, fscores, lw=1.5)\n",
    "axes[1][1].set_xlabel('Regularization')\n",
    "axes[1][1].set_ylabel('FScore')\n",
    "axes[1][1].set_title('FScore vs. Regularization for SVM')\n",
    "\n",
    "# Adjust layout\n",
    "fig.tight_layout()"
   ]
  },
  {
   "cell_type": "markdown",
   "metadata": {},
   "source": [
    "Perform test on test set"
   ]
  },
  {
   "cell_type": "code",
   "execution_count": 23,
   "metadata": {},
   "outputs": [
    {
     "name": "stdout",
     "output_type": "stream",
     "text": [
      "SVM Accuracy: 62.12%\n"
     ]
    }
   ],
   "source": [
    "print(\"SVM Accuracy: %0.2f%%\" % (100 * top_model.score(x_test, y_test)))"
   ]
  },
  {
   "cell_type": "markdown",
   "metadata": {},
   "source": [
    "Compute confusion matrix, precision, recall and F-score with micro and macro averaging"
   ]
  },
  {
   "cell_type": "code",
   "execution_count": 24,
   "metadata": {},
   "outputs": [],
   "source": [
    "from sklearn.metrics import confusion_matrix\n",
    "\n",
    "cf = confusion_matrix(y_test, top_model.predict(x_test))\n",
    "\n",
    "measures_macro = list(precision_recall_fscore_support(y_test, top_model.predict(x_test), average='macro'))[:-1]\n",
    "measures_micro = list(precision_recall_fscore_support(y_test, top_model.predict(x_test), average='micro'))[:-1]"
   ]
  },
  {
   "cell_type": "markdown",
   "metadata": {},
   "source": [
    "Show the confusion matrix"
   ]
  },
  {
   "cell_type": "code",
   "execution_count": 25,
   "metadata": {
    "scrolled": true
   },
   "outputs": [
    {
     "data": {
      "text/html": [
       "<div>\n",
       "<style scoped>\n",
       "    .dataframe tbody tr th:only-of-type {\n",
       "        vertical-align: middle;\n",
       "    }\n",
       "\n",
       "    .dataframe tbody tr th {\n",
       "        vertical-align: top;\n",
       "    }\n",
       "\n",
       "    .dataframe thead th {\n",
       "        text-align: right;\n",
       "    }\n",
       "</style>\n",
       "<table border=\"1\" class=\"dataframe\">\n",
       "  <thead>\n",
       "    <tr style=\"text-align: right;\">\n",
       "      <th></th>\n",
       "      <th>Predicted ilpt</th>\n",
       "      <th>Predicted lpt</th>\n",
       "      <th>Predicted slpt</th>\n",
       "      <th>Predicted ulpt</th>\n",
       "    </tr>\n",
       "  </thead>\n",
       "  <tbody>\n",
       "    <tr>\n",
       "      <th>ilpt</th>\n",
       "      <td>2072</td>\n",
       "      <td>259</td>\n",
       "      <td>322</td>\n",
       "      <td>663</td>\n",
       "    </tr>\n",
       "    <tr>\n",
       "      <th>lpt</th>\n",
       "      <td>214</td>\n",
       "      <td>6649</td>\n",
       "      <td>1730</td>\n",
       "      <td>1391</td>\n",
       "    </tr>\n",
       "    <tr>\n",
       "      <th>slpt</th>\n",
       "      <td>107</td>\n",
       "      <td>2058</td>\n",
       "      <td>5700</td>\n",
       "      <td>2071</td>\n",
       "    </tr>\n",
       "    <tr>\n",
       "      <th>ulpt</th>\n",
       "      <td>427</td>\n",
       "      <td>1621</td>\n",
       "      <td>1714</td>\n",
       "      <td>6203</td>\n",
       "    </tr>\n",
       "  </tbody>\n",
       "</table>\n",
       "</div>"
      ],
      "text/plain": [
       "      Predicted ilpt  Predicted lpt  Predicted slpt  Predicted ulpt\n",
       "ilpt            2072            259             322             663\n",
       "lpt              214           6649            1730            1391\n",
       "slpt             107           2058            5700            2071\n",
       "ulpt             427           1621            1714            6203"
      ]
     },
     "execution_count": 25,
     "metadata": {},
     "output_type": "execute_result"
    }
   ],
   "source": [
    "cf_df = pd.DataFrame(cf, columns=['Predicted ilpt', 'Predicted lpt', 'Predicted slpt', 'Predicted ulpt'])\n",
    "cf_df.rename(index={0:'ilpt',1:'lpt',2:'slpt',3:'ulpt'}, inplace=True)\n",
    "cf_df"
   ]
  },
  {
   "cell_type": "markdown",
   "metadata": {},
   "source": [
    "Show precision, recall and F-score with averaging"
   ]
  },
  {
   "cell_type": "code",
   "execution_count": 26,
   "metadata": {
    "scrolled": false
   },
   "outputs": [
    {
     "data": {
      "text/html": [
       "<div>\n",
       "<style scoped>\n",
       "    .dataframe tbody tr th:only-of-type {\n",
       "        vertical-align: middle;\n",
       "    }\n",
       "\n",
       "    .dataframe tbody tr th {\n",
       "        vertical-align: top;\n",
       "    }\n",
       "\n",
       "    .dataframe thead th {\n",
       "        text-align: right;\n",
       "    }\n",
       "</style>\n",
       "<table border=\"1\" class=\"dataframe\">\n",
       "  <thead>\n",
       "    <tr style=\"text-align: right;\">\n",
       "      <th></th>\n",
       "      <th>Averaging</th>\n",
       "      <th>Precision</th>\n",
       "      <th>Recall</th>\n",
       "      <th>FScore</th>\n",
       "    </tr>\n",
       "  </thead>\n",
       "  <tbody>\n",
       "    <tr>\n",
       "      <th>0</th>\n",
       "      <td>macro</td>\n",
       "      <td>0.641385</td>\n",
       "      <td>0.621741</td>\n",
       "      <td>0.630179</td>\n",
       "    </tr>\n",
       "    <tr>\n",
       "      <th>1</th>\n",
       "      <td>micro</td>\n",
       "      <td>0.621186</td>\n",
       "      <td>0.621186</td>\n",
       "      <td>0.621186</td>\n",
       "    </tr>\n",
       "  </tbody>\n",
       "</table>\n",
       "</div>"
      ],
      "text/plain": [
       "  Averaging  Precision    Recall    FScore\n",
       "0     macro   0.641385  0.621741  0.630179\n",
       "1     micro   0.621186  0.621186  0.621186"
      ]
     },
     "execution_count": 26,
     "metadata": {},
     "output_type": "execute_result"
    }
   ],
   "source": [
    "measures_macro = ['macro'] + measures_macro\n",
    "measures_micro = ['micro'] + measures_micro\n",
    "measures_df = pd.DataFrame([measures_macro, measures_micro], columns=['Averaging', 'Precision', 'Recall', 'FScore'])\n",
    "measures_df"
   ]
  },
  {
   "cell_type": "markdown",
   "metadata": {},
   "source": [
    "### Pretrained Word2Vec ###"
   ]
  },
  {
   "cell_type": "markdown",
   "metadata": {},
   "source": [
    "I will be using **Google's Word2Vec** trained dictionary, which includes word vectors for a vocabulary of 3 million words.<br>\n",
    "Each vector has 300 features.\n",
    "\n",
    "http://mccormickml.com/2016/04/12/googles-pretrained-word2vec-model-in-python/"
   ]
  },
  {
   "cell_type": "code",
   "execution_count": 27,
   "metadata": {},
   "outputs": [],
   "source": [
    "from gensim.models import Word2Vec, KeyedVectors\n",
    "\n",
    "# Let's import the model\n",
    "wv_ptrained = KeyedVectors.load_word2vec_format('pretrained/GoogleNews-vectors-negative300.bin', binary=True)"
   ]
  },
  {
   "cell_type": "markdown",
   "metadata": {},
   "source": [
    "Even if the pretrained dictionary is large, we discovered that is does not contain some words.<br>\n",
    "Hence, we will redefine the `sen2emb(sentences, word_dict)` function so that it accepts an undefined amount of dictionaries instead of a unique one $\\rightarrow$ `sen2emb(sentences, *word_dicts)`.<br>\n",
    "**Note:** all of them should return vectors with the same amount of dimensions.\n",
    "\n",
    "This way, for every token, we will try to find a vector in the first dictionary. If it is not found, then we will try the second, etc."
   ]
  },
  {
   "cell_type": "code",
   "execution_count": 28,
   "metadata": {},
   "outputs": [],
   "source": [
    "def sen2emb(sentence, *word_dicts):\n",
    "    \"\"\"Transform a tokenized sentence into an embedding by adding the embedding word vectors.\"\"\"\n",
    "    embeddings = []\n",
    "    for token in sentence:\n",
    "        for word_dict in word_dicts:\n",
    "            if token in word_dict.vocab:\n",
    "                embeddings.append(word_dict[token].tolist())\n",
    "                break\n",
    "    embedding = sum_lists(embeddings)\n",
    "    return embedding"
   ]
  },
  {
   "cell_type": "markdown",
   "metadata": {},
   "source": [
    "Thus, we need (at least) a backup model. I will be using the **Wikipedia 2014 + Gigaword 5**, which has 300D vectors and 400k vocabulary size.<br>\n",
    "It was extracted from https://nlp.stanford.edu/projects/glove/\n",
    "\n",
    "As a side note, this `.txt` file is in GloVe format. Hence, we need to convert it to `Word2Vec` format.<br>\n",
    "**Note:** loading a `.bin` file is much faster..."
   ]
  },
  {
   "cell_type": "code",
   "execution_count": 29,
   "metadata": {},
   "outputs": [],
   "source": [
    "from gensim.models import Word2Vec, KeyedVectors\n",
    "from gensim.scripts.glove2word2vec import glove2word2vec\n",
    "\n",
    "# Transform into w2v format\n",
    "glove_file = 'pretrained/glove.6B.300d.txt'\n",
    "tmp_file = 'pretrained/w2v_glove.6B.300d.txt'\n",
    "glove2word2vec(glove_file, tmp_file)\n",
    "\n",
    "# Import the backup model\n",
    "wv_backup = KeyedVectors.load_word2vec_format(tmp_file, binary=False)"
   ]
  },
  {
   "cell_type": "markdown",
   "metadata": {},
   "source": [
    "We will also train a new model using all the questions and a vector of length 300, in order to use it as a **last resource**."
   ]
  },
  {
   "cell_type": "code",
   "execution_count": 30,
   "metadata": {},
   "outputs": [],
   "source": [
    "# Train the second backup model\n",
    "w2v_model = Word2Vec(sentences, min_count=1, size=300, window=10)"
   ]
  },
  {
   "cell_type": "markdown",
   "metadata": {},
   "source": [
    "Let's generate a new $x$ using the new Word2Vec pretrained models."
   ]
  },
  {
   "cell_type": "code",
   "execution_count": 31,
   "metadata": {},
   "outputs": [],
   "source": [
    "x_train = [sen2emb(sub, wv_ptrained, wv_backup, w2v_model.wv) for sub in sub_train]\n",
    "x_validation = [sen2emb(sub, wv_ptrained, wv_backup, w2v_model.wv) for sub in sub_validation]\n",
    "x_tv = np.concatenate((x_train, x_validation), axis=0)\n",
    "x_test = [sen2emb(sub, wv_ptrained, wv_backup, w2v_model.wv) for sub in sub_test]"
   ]
  },
  {
   "cell_type": "markdown",
   "metadata": {},
   "source": [
    "Generate the labels for training, validation and testing"
   ]
  },
  {
   "cell_type": "code",
   "execution_count": 32,
   "metadata": {},
   "outputs": [],
   "source": [
    "y_train = df_train['label'].values\n",
    "y_validation = df_validation['label'].values\n",
    "y_tv = np.concatenate((y_train, y_validation), axis=0)\n",
    "y_test = df_test['label'].values"
   ]
  },
  {
   "cell_type": "markdown",
   "metadata": {},
   "source": [
    "Standarize $x$ for training, validation and testing"
   ]
  },
  {
   "cell_type": "code",
   "execution_count": 33,
   "metadata": {},
   "outputs": [],
   "source": [
    "x_train = standarize(x_train)\n",
    "x_validation = standarize(x_validation)\n",
    "x_tv = standarize(x_tv)\n",
    "x_test = standarize(x_test)"
   ]
  },
  {
   "cell_type": "markdown",
   "metadata": {},
   "source": [
    "#### Support Vector Machine ####"
   ]
  },
  {
   "cell_type": "markdown",
   "metadata": {},
   "source": [
    "Tune hyperparameters and retrieve measures"
   ]
  },
  {
   "cell_type": "code",
   "execution_count": 34,
   "metadata": {},
   "outputs": [
    {
     "name": "stderr",
     "output_type": "stream",
     "text": [
      "/usr/local/lib/python3.7/site-packages/sklearn/metrics/classification.py:1143: UndefinedMetricWarning: Precision and F-score are ill-defined and being set to 0.0 in labels with no predicted samples.\n",
      "  'precision', 'predicted', average, warn_for)\n"
     ]
    },
    {
     "name": "stdout",
     "output_type": "stream",
     "text": [
      "Top regularization: 1.0\n",
      "Top accuracy: 0.6268117578001535\n"
     ]
    }
   ],
   "source": [
    "from sklearn.svm import SVC\n",
    "from sklearn.metrics import precision_recall_fscore_support\n",
    "\n",
    "top_accuracy = 0;\n",
    "top_reg = 0;\n",
    "\n",
    "regs = np.linspace(1e-10, 1, 10)\n",
    "accs = []\n",
    "precs = []\n",
    "recs = []\n",
    "fscores = []\n",
    "\n",
    "for reg in regs:\n",
    "    svm_model = SVC(gamma='scale', C=reg)\n",
    "    svm_model.fit(x_train, y_train)\n",
    "    acc = svm_model.score(x_validation, y_validation)\n",
    "    accs.append(acc)\n",
    "    measures = precision_recall_fscore_support(y_validation, svm_model.predict(x_validation), average='macro')\n",
    "    precs.append(measures[0])\n",
    "    recs.append(measures[1])\n",
    "    fscores.append(measures[2])\n",
    "    if acc > top_accuracy:\n",
    "        top_accuracy = acc\n",
    "        top_reg = reg\n",
    "\n",
    "print(\"Top regularization:\", top_reg)\n",
    "print(\"Top accuracy:\", top_accuracy)\n",
    "\n",
    "# Retrain with whole training set and optimal penalty\n",
    "top_model = SVC(gamma='scale', C=top_reg)\n",
    "top_model.fit(x_tv, y_tv);"
   ]
  },
  {
   "cell_type": "markdown",
   "metadata": {},
   "source": [
    "Plot measures vs. penalty"
   ]
  },
  {
   "cell_type": "code",
   "execution_count": 35,
   "metadata": {},
   "outputs": [
    {
     "data": {
      "image/png": "[encoded data removed]",
      "text/plain": [
       "<Figure size 720x720 with 4 Axes>"
      ]
     },
     "metadata": {
      "needs_background": "light"
     },
     "output_type": "display_data"
    }
   ],
   "source": [
    "fig, axes = plt.subplots(nrows=2, ncols=2, figsize=(10,10))\n",
    "\n",
    "# Accuracy vs regularization\n",
    "axes[0][0].plot(regs, accs, lw=1.5)\n",
    "axes[0][0].set_xlabel('Regularization')\n",
    "axes[0][0].set_ylabel('Accuracy')\n",
    "axes[0][0].set_title('Accuracy vs. Regularization for SVM')\n",
    "\n",
    "# Precision vs regularization\n",
    "axes[0][1].plot(regs, precs, lw=1.5)\n",
    "axes[0][1].set_xlabel('Regularization')\n",
    "axes[0][1].set_ylabel('Precision')\n",
    "axes[0][1].set_title('Precision vs. Regularization for SVM')\n",
    "\n",
    "# Recall vs regularization\n",
    "axes[1][0].plot(regs, recs, lw=1.5)\n",
    "axes[1][0].set_xlabel('Regularization')\n",
    "axes[1][0].set_ylabel('Recall')\n",
    "axes[1][0].set_title('Recall vs. Regularization for SVM')\n",
    "\n",
    "# FScore vs regularization\n",
    "axes[1][1].plot(regs, fscores, lw=1.5)\n",
    "axes[1][1].set_xlabel('Regularization')\n",
    "axes[1][1].set_ylabel('FScore')\n",
    "axes[1][1].set_title('FScore vs. Regularization for SVM')\n",
    "\n",
    "# Adjust layout\n",
    "fig.tight_layout()"
   ]
  },
  {
   "cell_type": "markdown",
   "metadata": {},
   "source": [
    "Perform test on test set"
   ]
  },
  {
   "cell_type": "code",
   "execution_count": 36,
   "metadata": {},
   "outputs": [
    {
     "name": "stdout",
     "output_type": "stream",
     "text": [
      "SVM Accuracy: 64.45%\n"
     ]
    }
   ],
   "source": [
    "print(\"SVM Accuracy: %0.2f%%\" % (100 * top_model.score(x_test, y_test)))"
   ]
  },
  {
   "cell_type": "markdown",
   "metadata": {},
   "source": [
    "Compute confusion matrix, precision, recall and F-score with micro and macro averaging"
   ]
  },
  {
   "cell_type": "code",
   "execution_count": 37,
   "metadata": {},
   "outputs": [],
   "source": [
    "from sklearn.metrics import confusion_matrix\n",
    "\n",
    "cf = confusion_matrix(y_test, top_model.predict(x_test))\n",
    "\n",
    "measures_macro = list(precision_recall_fscore_support(y_test, top_model.predict(x_test), average='macro'))[:-1]\n",
    "measures_micro = list(precision_recall_fscore_support(y_test, top_model.predict(x_test), average='micro'))[:-1]"
   ]
  },
  {
   "cell_type": "markdown",
   "metadata": {},
   "source": [
    "Show the confusion matrix"
   ]
  },
  {
   "cell_type": "code",
   "execution_count": 38,
   "metadata": {
    "scrolled": true
   },
   "outputs": [
    {
     "data": {
      "text/html": [
       "<div>\n",
       "<style scoped>\n",
       "    .dataframe tbody tr th:only-of-type {\n",
       "        vertical-align: middle;\n",
       "    }\n",
       "\n",
       "    .dataframe tbody tr th {\n",
       "        vertical-align: top;\n",
       "    }\n",
       "\n",
       "    .dataframe thead th {\n",
       "        text-align: right;\n",
       "    }\n",
       "</style>\n",
       "<table border=\"1\" class=\"dataframe\">\n",
       "  <thead>\n",
       "    <tr style=\"text-align: right;\">\n",
       "      <th></th>\n",
       "      <th>Predicted ilpt</th>\n",
       "      <th>Predicted lpt</th>\n",
       "      <th>Predicted slpt</th>\n",
       "      <th>Predicted ulpt</th>\n",
       "    </tr>\n",
       "  </thead>\n",
       "  <tbody>\n",
       "    <tr>\n",
       "      <th>ilpt</th>\n",
       "      <td>2011</td>\n",
       "      <td>218</td>\n",
       "      <td>410</td>\n",
       "      <td>677</td>\n",
       "    </tr>\n",
       "    <tr>\n",
       "      <th>lpt</th>\n",
       "      <td>137</td>\n",
       "      <td>6836</td>\n",
       "      <td>1719</td>\n",
       "      <td>1292</td>\n",
       "    </tr>\n",
       "    <tr>\n",
       "      <th>slpt</th>\n",
       "      <td>60</td>\n",
       "      <td>1778</td>\n",
       "      <td>6170</td>\n",
       "      <td>1928</td>\n",
       "    </tr>\n",
       "    <tr>\n",
       "      <th>ulpt</th>\n",
       "      <td>350</td>\n",
       "      <td>1503</td>\n",
       "      <td>1730</td>\n",
       "      <td>6382</td>\n",
       "    </tr>\n",
       "  </tbody>\n",
       "</table>\n",
       "</div>"
      ],
      "text/plain": [
       "      Predicted ilpt  Predicted lpt  Predicted slpt  Predicted ulpt\n",
       "ilpt            2011            218             410             677\n",
       "lpt              137           6836            1719            1292\n",
       "slpt              60           1778            6170            1928\n",
       "ulpt             350           1503            1730            6382"
      ]
     },
     "execution_count": 38,
     "metadata": {},
     "output_type": "execute_result"
    }
   ],
   "source": [
    "cf_df = pd.DataFrame(cf, columns=['Predicted ilpt', 'Predicted lpt', 'Predicted slpt', 'Predicted ulpt'])\n",
    "cf_df.rename(index={0:'ilpt',1:'lpt',2:'slpt',3:'ulpt'}, inplace=True)\n",
    "cf_df"
   ]
  },
  {
   "cell_type": "markdown",
   "metadata": {},
   "source": [
    "Show precision, recall and F-score with averaging"
   ]
  },
  {
   "cell_type": "code",
   "execution_count": 39,
   "metadata": {
    "scrolled": false
   },
   "outputs": [
    {
     "data": {
      "text/html": [
       "<div>\n",
       "<style scoped>\n",
       "    .dataframe tbody tr th:only-of-type {\n",
       "        vertical-align: middle;\n",
       "    }\n",
       "\n",
       "    .dataframe tbody tr th {\n",
       "        vertical-align: top;\n",
       "    }\n",
       "\n",
       "    .dataframe thead th {\n",
       "        text-align: right;\n",
       "    }\n",
       "</style>\n",
       "<table border=\"1\" class=\"dataframe\">\n",
       "  <thead>\n",
       "    <tr style=\"text-align: right;\">\n",
       "      <th></th>\n",
       "      <th>Averaging</th>\n",
       "      <th>Precision</th>\n",
       "      <th>Recall</th>\n",
       "      <th>FScore</th>\n",
       "    </tr>\n",
       "  </thead>\n",
       "  <tbody>\n",
       "    <tr>\n",
       "      <th>0</th>\n",
       "      <td>macro</td>\n",
       "      <td>0.670924</td>\n",
       "      <td>0.638141</td>\n",
       "      <td>0.651542</td>\n",
       "    </tr>\n",
       "    <tr>\n",
       "      <th>1</th>\n",
       "      <td>micro</td>\n",
       "      <td>0.644529</td>\n",
       "      <td>0.644529</td>\n",
       "      <td>0.644529</td>\n",
       "    </tr>\n",
       "  </tbody>\n",
       "</table>\n",
       "</div>"
      ],
      "text/plain": [
       "  Averaging  Precision    Recall    FScore\n",
       "0     macro   0.670924  0.638141  0.651542\n",
       "1     micro   0.644529  0.644529  0.644529"
      ]
     },
     "execution_count": 39,
     "metadata": {},
     "output_type": "execute_result"
    }
   ],
   "source": [
    "measures_macro = ['macro'] + measures_macro\n",
    "measures_micro = ['micro'] + measures_micro\n",
    "measures_df = pd.DataFrame([measures_macro, measures_micro], columns=['Averaging', 'Precision', 'Recall', 'FScore'])\n",
    "measures_df"
   ]
  }
 ],
 "metadata": {
  "kernelspec": {
   "display_name": "Python 3",
   "language": "python",
   "name": "python3"
  },
  "language_info": {
   "codemirror_mode": {
    "name": "ipython",
    "version": 3
   },
   "file_extension": ".py",
   "mimetype": "text/x-python",
   "name": "python",
   "nbconvert_exporter": "python",
   "pygments_lexer": "ipython3",
   "version": "3.7.3"
  }
 },
 "nbformat": 4,
 "nbformat_minor": 2
}
